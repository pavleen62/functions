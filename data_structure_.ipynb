{
  "nbformat": 4,
  "nbformat_minor": 0,
  "metadata": {
    "colab": {
      "provenance": [],
      "authorship_tag": "ABX9TyPJHc2HAmVDFdG+FhYAOC/u",
      "include_colab_link": true
    },
    "kernelspec": {
      "name": "python3",
      "display_name": "Python 3"
    },
    "language_info": {
      "name": "python"
    }
  },
  "cells": [
    {
      "cell_type": "markdown",
      "metadata": {
        "id": "view-in-github",
        "colab_type": "text"
      },
      "source": [
        "<a href=\"https://colab.research.google.com/github/pavleen62/functions/blob/main/data_structure_.ipynb\" target=\"_parent\"><img src=\"https://colab.research.google.com/assets/colab-badge.svg\" alt=\"Open In Colab\"/></a>"
      ]
    },
    {
      "cell_type": "code",
      "execution_count": null,
      "metadata": {
        "id": "fM_7vOH2Q4p0"
      },
      "outputs": [],
      "source": []
    },
    {
      "cell_type": "markdown",
      "source": [
        "Data Types and Structures Questions\n",
        "\n",
        "Q1. What are data structures, and why are they important?\n",
        "\n",
        "Ans. Data Structures are a way of organizing data so that it can be accessed more efficiently depending upon the situation. Data Structures are fundamentals of any programming language around which a program is built. Python helps to learn the fundamental of these data structures in a simpler way as compared to other programming languages.\n",
        "\n",
        "Q2. Explain the difference between mutable and immutable data types with examples?\n",
        "\n",
        "Ans. 2. Mutable Data Types (Can be Changed) Mutable objects can be modified after creation. Changes occur in place, meaning the object’s memory address remains the same. Examples of Mutable Data Types: Lists Dictionaries Set 2. Immutable Data Types (Cannot be Changed) Immutable objects cannot be modified after creation. Any change creates a new object instead of modifying the existing one.\n",
        "Examples of Immutable Data Types: Tuples Strings Integers Floats Booleans\n",
        "\n",
        "\n",
        "Q3. What are the main differences between lists and tuples in Python?\n",
        "\n",
        "Ans. List : You can store anything in list. List can store heterogenous data List is an ordered collection of elements that can be of any data type List are mutable. List = [] X = [1, 2, 3, 4]\n",
        "\n",
        "Tuples: Tuples are immutable Tuples can store heterogenous data Tuples = () X = (1, 2, 3, 4)\n",
        "\n",
        "\n",
        "Q4. Describe how dictionaries store data?\n",
        "\n",
        "Ans. Dictionary: Which store the data in the form of key value pair Dictionary = {}\n",
        "\n",
        "\n",
        "Q5. Why might you use a set instead of a list in Python?\n",
        "\n",
        "Ans. A set in Python has unique advantages over a list in certain use cases. Below are the key reasons why you might prefer a set over a list:\n",
        "\n",
        "1. Sets Automatically Remove Duplicates\n",
        "2. faster Membership Checking (O(1) vs O(n))\n",
        "3.Sets Support Mathematical Operations (Union, Intersection, Difference)\n",
        "4. sets Are Unordered & Do Not Allow Indexing\n",
        "Q6. What is a string in Python, and how is it different from a list?\n",
        "\n",
        "Ans. A string in Python is a sequence of characters enclosed in single (' '), double (\" \"), or triple (\"\"/\"\"\" \"\"\") quotes. it is an immutable data type , meaning its contents cannot be changed after creation\n",
        "1.Mutability: Strings are Immutable, Lists are Mutable\n",
        "2.Strings Contain Only Characters, Lists Can Contain Multiple Data Types\n",
        "3.Slicing Works Similarly for Both\n",
        "\n",
        "\n",
        "Q7. How do tuples ensure data integrity in Python?\n",
        "\n",
        "Ans. Tuples in Python ensure data integrity because they are immutable, meaning their contents cannot be changed once created. This prevents accidental modifications and ensures that the data remains consistent and reliable.\n",
        "\n",
        "\n",
        "Q8. What is a hash table, and how does it relate to dictionaries in Python?\n",
        "\n",
        "Ans. A hash table (also called a hash map) is a data structure that stores key-value pairs and provides fast lookups, insertions, and deletions by using a hashing function.\n",
        "\n",
        "\n",
        "\n",
        "Q9. Can lists contain different data types in Python?\n",
        "\n",
        "Ans. Yes! In Python, lists are heterogeneous, meaning they can store different data types in a single list.\n",
        "\n",
        "\n",
        "\n",
        "Q10. Explain why strings are immutable in Python?\n",
        "\n",
        "Ans. In Python, strings are immutable, meaning once created, they cannot be modified. It is Efficient memory management.\n",
        "\n",
        "\n",
        "Q11. What advantages do dictionaries offer over lists for certain tasks?\n",
        "\n",
        "Ans. Use dictionaries when quick lookups, key-value pairs, and uniqueness matter. Use lists when order, duplicates, and sequential access are important.\n",
        "\n",
        "\n",
        "Q12. Describe a scenario where using a tuple would be preferable over a list?\n",
        "\n",
        "Ans. Use tuples when you need fixed, unchangeable, and efficient data storage. Use lists when data needs modification.\n",
        "\n",
        "\n",
        "Q13. How do sets handle duplicate values in Python?\n",
        "\n",
        "Ans. Sets in Python are unordered collections of unique elements. They automatically remove duplicate values when created or modified.\n",
        "\n",
        "\n",
        "\n",
        "Q14. How does the “in” keyword work differently for lists and dictionaries?\n",
        "\n",
        "Ans. The \"in\" keyword is used to check membership in both lists and dictionaries, but it behaves differently for each. Lists: \"in\" checks if a value is present anywhere in the list (slower for large lists). Dictionaries: \"in\" checks only keys, making it much faster due to hashing. To check dictionary values, use .values().\n",
        "\n",
        "\n",
        "Q14. How does the “in” keyword work differently for lists and dictionaries?\n",
        "\n",
        "Ans. The \"in\" keyword is used to check membership in both lists and dictionaries, but it behaves differently for each. Lists: \"in\" checks if a value is present anywhere in the list (slower for large lists). Dictionaries: \"in\" checks only keys, making it much faster due to hashing. To check dictionary values, use .values().\n",
        "\n",
        "\n",
        "\n",
        "Q15. Can you modify the elements of a tuple? Explain why or why not.\n",
        "\n",
        "Ans. No, tuples are immutable, meaning their elements cannot be changed, added, or removed after creation.\n",
        "\n",
        "\n",
        "Q16. What is a nested dictionary, and give an example of its use case?\n",
        "\n",
        "Ans. A nested dictionary is a dictionary inside another dictionary. It allows hierarchical storage of data, where each key in the outer dictionary points to another dictionary as its value.\n",
        "\n",
        "\n",
        "Q17. Describe the time complexity of accessing elements in a dictionary.\n",
        "\n",
        "Ans. In Python, dictionaries are implemented using hash tables, which provide average O(1) time complexity for lookups.\n",
        "\n",
        "\n",
        "\n",
        "Q18. In what situations are lists preferred over dictionaries?\n",
        "\n",
        "Ans. Lists and dictionaries both store data in Python, but lists are preferred in certain situations due to their ordered structure and index-based access\n",
        "\n",
        "\n",
        "Q19. Why are dictionaries considered unordered, and how does that affect data retrieval?\n",
        "\n",
        "Ans. Dictionaries in Python are considered unordered because the order of key-value pairs is not guaranteed to be preserved. This is due to how dictionaries are implemented using a hash table. When you add items to a dictionary, Python computes the hash value of the key and stores the pair in an arbitrary location in memory.\n",
        "\n",
        "Impact on Data Retrieval: a) Data retrieval by key: The order of the items does not affect the efficiency of accessing elements by key. Dictionary lookups are O(1) on average, meaning you can retrieve values quickly using keys, regardless of their order in the dictionary. b) Iteration: If you iterate over the dictionary, the order of the items may not be the same as the order they were inserted. This can be significant when the order is important\n",
        "\n",
        "\n",
        "Q20. Explain the difference between a list and a dictionary in terms of data retrieval.\n",
        "\n",
        "Ans. List: Have a linear-time complexity ((O(n))) for searching, which can be slow for large datasets. Elements are accessed using indices, which are integers starting from 0. Good for ordered collections, like sequences of user actions.\n",
        "\n",
        "Dictionaries: Have an average-case constant time complexity ((O(1))) for searching, making them faster for lookups. Elements are accessed using keys, which can be of any data type. Good for quick lookups, like mapping usernames to user data.\n"
      ],
      "metadata": {
        "id": "HEQTcdhZRZoB"
      }
    },
    {
      "cell_type": "code",
      "source": [
        "##Q1. Write a code to create a string with your name and print it."
      ],
      "metadata": {
        "id": "jMH-DuNaVrpJ"
      },
      "execution_count": null,
      "outputs": []
    },
    {
      "cell_type": "code",
      "source": [
        "my_name = \"pavleen kaur\"\n",
        "print(my_name)"
      ],
      "metadata": {
        "colab": {
          "base_uri": "https://localhost:8080/"
        },
        "id": "fHU8On7dV01w",
        "outputId": "e46f7767-fdea-4355-c9cc-e96253e8ac45"
      },
      "execution_count": 1,
      "outputs": [
        {
          "output_type": "stream",
          "name": "stdout",
          "text": [
            "pavleen kaur\n"
          ]
        }
      ]
    },
    {
      "cell_type": "code",
      "source": [
        "##Q2. Write a code to find the length of the string \"Hello World\"."
      ],
      "metadata": {
        "id": "6aqT2WJrWFmD"
      },
      "execution_count": null,
      "outputs": []
    },
    {
      "cell_type": "code",
      "source": [
        "string1 = \"Hello World\"\n",
        "len(string1)"
      ],
      "metadata": {
        "colab": {
          "base_uri": "https://localhost:8080/"
        },
        "id": "zjgKZGLqWNbv",
        "outputId": "107b53d4-57c0-46d8-c242-232be9ad4108"
      },
      "execution_count": 2,
      "outputs": [
        {
          "output_type": "execute_result",
          "data": {
            "text/plain": [
              "11"
            ]
          },
          "metadata": {},
          "execution_count": 2
        }
      ]
    },
    {
      "cell_type": "code",
      "source": [
        "##Q3 Write a code to slice the first 3 characters from the string \"Python Programmi"
      ],
      "metadata": {
        "id": "2RCXo_gqWQvQ"
      },
      "execution_count": null,
      "outputs": []
    },
    {
      "cell_type": "code",
      "source": [
        "text1 = \"Python Programming\"\n",
        "slice_text = text1[: 3]\n",
        "print(slice_text)"
      ],
      "metadata": {
        "colab": {
          "base_uri": "https://localhost:8080/"
        },
        "id": "-PjbN1EMWgr4",
        "outputId": "de6b8bb9-eaec-43d8-cf08-992a475269d9"
      },
      "execution_count": 3,
      "outputs": [
        {
          "output_type": "stream",
          "name": "stdout",
          "text": [
            "Pyt\n"
          ]
        }
      ]
    },
    {
      "cell_type": "code",
      "source": [
        "##Q4. Write a code to convert the string \"hello\" to uppercase."
      ],
      "metadata": {
        "id": "_UyV3q9iWm_i"
      },
      "execution_count": null,
      "outputs": []
    },
    {
      "cell_type": "code",
      "source": [
        "string1 = \"hello\"\n",
        "string1.upper()"
      ],
      "metadata": {
        "colab": {
          "base_uri": "https://localhost:8080/",
          "height": 36
        },
        "id": "VGcLy4AIWsOg",
        "outputId": "b72f7015-a7bd-475d-9723-0612fe238db6"
      },
      "execution_count": 4,
      "outputs": [
        {
          "output_type": "execute_result",
          "data": {
            "text/plain": [
              "'HELLO'"
            ],
            "application/vnd.google.colaboratory.intrinsic+json": {
              "type": "string"
            }
          },
          "metadata": {},
          "execution_count": 4
        }
      ]
    },
    {
      "cell_type": "code",
      "source": [
        "\n",
        "##Q5. P Write a code to replace the word \"apple\" with \"orange\" in the string \"I like apple\""
      ],
      "metadata": {
        "id": "1rXnnf3LWzd2"
      },
      "execution_count": null,
      "outputs": []
    },
    {
      "cell_type": "code",
      "source": [
        "string1 = \"I like apple\"\n",
        "string1.replace(\"apple\", \"orange\")\n",
        ""
      ],
      "metadata": {
        "colab": {
          "base_uri": "https://localhost:8080/",
          "height": 36
        },
        "id": "63cWlSnOXErw",
        "outputId": "ad92deea-8129-425e-e695-425e5a5699cd"
      },
      "execution_count": 5,
      "outputs": [
        {
          "output_type": "execute_result",
          "data": {
            "text/plain": [
              "'I like orange'"
            ],
            "application/vnd.google.colaboratory.intrinsic+json": {
              "type": "string"
            }
          },
          "metadata": {},
          "execution_count": 5
        }
      ]
    },
    {
      "cell_type": "code",
      "source": [
        "##Q6. Write a code to create a list with numbers 1 to 5 and print it."
      ],
      "metadata": {
        "id": "bNdzQjPyXKZP"
      },
      "execution_count": null,
      "outputs": []
    },
    {
      "cell_type": "code",
      "source": [
        "my_list = list(range(1,6))\n",
        "print(my_list)"
      ],
      "metadata": {
        "colab": {
          "base_uri": "https://localhost:8080/"
        },
        "id": "3QXuZ41mXM8k",
        "outputId": "241512c7-44b6-43fe-e83f-e7de3bdd2e0d"
      },
      "execution_count": 6,
      "outputs": [
        {
          "output_type": "stream",
          "name": "stdout",
          "text": [
            "[1, 2, 3, 4, 5]\n"
          ]
        }
      ]
    },
    {
      "cell_type": "code",
      "source": [
        "\n",
        "##Q7. Write a code to append the number 10 to the list [1, 2, 3, 4]."
      ],
      "metadata": {
        "id": "4nWnRU5RXHn0"
      },
      "execution_count": null,
      "outputs": []
    },
    {
      "cell_type": "code",
      "source": [
        "list1 = [1, 2, 3, 4]\n",
        "list1.append(10)\n",
        "print(list1)\n"
      ],
      "metadata": {
        "colab": {
          "base_uri": "https://localhost:8080/"
        },
        "id": "KGzrdTSeXVnv",
        "outputId": "6399fad3-d0d8-4fda-9d85-d5268d24205d"
      },
      "execution_count": 7,
      "outputs": [
        {
          "output_type": "stream",
          "name": "stdout",
          "text": [
            "[1, 2, 3, 4, 10]\n"
          ]
        }
      ]
    },
    {
      "cell_type": "code",
      "source": [
        "\n",
        "##Q8. Write a code to remove the number 3 from the list [1, 2, 3, 4, 5]."
      ],
      "metadata": {
        "id": "MtNcaqjCXYiw"
      },
      "execution_count": null,
      "outputs": []
    },
    {
      "cell_type": "code",
      "source": [
        "list1 = [1, 2, 3, 4, 5]\n",
        "list1.pop(2)\n",
        "print(list1)\n",
        ""
      ],
      "metadata": {
        "colab": {
          "base_uri": "https://localhost:8080/"
        },
        "id": "y0EkFSkRXkbq",
        "outputId": "b50833cc-bc85-44c1-cd9a-0d50fe7cefa9"
      },
      "execution_count": 8,
      "outputs": [
        {
          "output_type": "stream",
          "name": "stdout",
          "text": [
            "[1, 2, 4, 5]\n"
          ]
        }
      ]
    },
    {
      "cell_type": "code",
      "source": [
        "\n",
        "##Q9. P Write a code to access the second element in the list ['a', 'b', 'c', 'd']."
      ],
      "metadata": {
        "id": "lW_3vHlMXnXo"
      },
      "execution_count": null,
      "outputs": []
    },
    {
      "cell_type": "code",
      "source": [
        "list1 = ['a', 'b', 'c', 'd']\n",
        "list1[1]\n",
        ""
      ],
      "metadata": {
        "colab": {
          "base_uri": "https://localhost:8080/",
          "height": 36
        },
        "id": "Rozm5zQiXr1b",
        "outputId": "a92757d2-87ee-4d1d-efd1-9b7d2ed25ebe"
      },
      "execution_count": 9,
      "outputs": [
        {
          "output_type": "execute_result",
          "data": {
            "text/plain": [
              "'b'"
            ],
            "application/vnd.google.colaboratory.intrinsic+json": {
              "type": "string"
            }
          },
          "metadata": {},
          "execution_count": 9
        }
      ]
    },
    {
      "cell_type": "code",
      "source": [
        "\n",
        "##Q10.  Write a code to reverse the list [10, 20, 30, 40, 50]."
      ],
      "metadata": {
        "id": "MJqt6ZzMXudK"
      },
      "execution_count": null,
      "outputs": []
    },
    {
      "cell_type": "code",
      "source": [
        "list1 = [10, 20, 30, 40, 50]\n",
        "list1.reverse()\n",
        "print(list1)\n",
        ""
      ],
      "metadata": {
        "colab": {
          "base_uri": "https://localhost:8080/"
        },
        "id": "YQSJ1RuhX2QE",
        "outputId": "22c78150-aadc-4de0-cbfb-381f41dc30ee"
      },
      "execution_count": 10,
      "outputs": [
        {
          "output_type": "stream",
          "name": "stdout",
          "text": [
            "[50, 40, 30, 20, 10]\n"
          ]
        }
      ]
    },
    {
      "cell_type": "code",
      "source": [
        "##Q11.  Write a code to create a tuple with the elements 100, 200, 300 and print it."
      ],
      "metadata": {
        "id": "tndx_gkqX4zf"
      },
      "execution_count": null,
      "outputs": []
    },
    {
      "cell_type": "code",
      "source": [
        "a = 100, 200, 300\n",
        "tuple1 = tuple(a)\n",
        "print(tuple1)"
      ],
      "metadata": {
        "colab": {
          "base_uri": "https://localhost:8080/"
        },
        "id": "yu6N4bp2YAor",
        "outputId": "05ae6efe-5eb4-4271-8149-b8274c15844b"
      },
      "execution_count": 11,
      "outputs": [
        {
          "output_type": "stream",
          "name": "stdout",
          "text": [
            "(100, 200, 300)\n"
          ]
        }
      ]
    },
    {
      "cell_type": "code",
      "source": [
        "##Q12.  Write a code to access the second-to-last element of the tuple ('red', 'green', 'blue' , 'yellow')"
      ],
      "metadata": {
        "id": "DhYEO3JCYEsj"
      },
      "execution_count": null,
      "outputs": []
    },
    {
      "cell_type": "code",
      "source": [
        "tuple1 = ('red', 'green', 'blue', 'yellow')\n",
        "tuple1[-2]"
      ],
      "metadata": {
        "colab": {
          "base_uri": "https://localhost:8080/",
          "height": 36
        },
        "id": "nTP0Vf4bYyy-",
        "outputId": "cbe55454-ee75-4187-90f4-4a0be2b4b50c"
      },
      "execution_count": 12,
      "outputs": [
        {
          "output_type": "execute_result",
          "data": {
            "text/plain": [
              "'blue'"
            ],
            "application/vnd.google.colaboratory.intrinsic+json": {
              "type": "string"
            }
          },
          "metadata": {},
          "execution_count": 12
        }
      ]
    },
    {
      "cell_type": "code",
      "source": [
        "##Q13.  Write a code to find the minimum number in the tuple (10, 20, 5, 15)."
      ],
      "metadata": {
        "id": "83qAsDZLY26y"
      },
      "execution_count": null,
      "outputs": []
    },
    {
      "cell_type": "code",
      "source": [
        "tuple1 = (10, 20, 5, 15)\n",
        "min(tuple1)"
      ],
      "metadata": {
        "colab": {
          "base_uri": "https://localhost:8080/"
        },
        "id": "b22dPaOcY94j",
        "outputId": "06c279ec-cb13-464e-ccc5-47787e22dd19"
      },
      "execution_count": 13,
      "outputs": [
        {
          "output_type": "execute_result",
          "data": {
            "text/plain": [
              "5"
            ]
          },
          "metadata": {},
          "execution_count": 13
        }
      ]
    },
    {
      "cell_type": "code",
      "source": [
        "##Q14. Write a code to find the index of the element \"cat\" in the tuple ('dog', 'cat', 'rabbit')\n"
      ],
      "metadata": {
        "id": "QLsnAeWeZBdb"
      },
      "execution_count": null,
      "outputs": []
    },
    {
      "cell_type": "code",
      "source": [
        "tuple1 = ('dog', 'cat', 'rabbit')\n",
        "tuple1.index('cat')"
      ],
      "metadata": {
        "colab": {
          "base_uri": "https://localhost:8080/"
        },
        "id": "QWYioqFeZVAe",
        "outputId": "f959b330-24aa-451d-8a13-96a975da3195"
      },
      "execution_count": 14,
      "outputs": [
        {
          "output_type": "execute_result",
          "data": {
            "text/plain": [
              "1"
            ]
          },
          "metadata": {},
          "execution_count": 14
        }
      ]
    },
    {
      "cell_type": "code",
      "source": [
        "\n",
        "##Q15.  Write a code to create a tuple containing three different fruits and check if \"kiwi\" is in it"
      ],
      "metadata": {
        "id": "m4cBvYfIZ6QQ"
      },
      "execution_count": null,
      "outputs": []
    },
    {
      "cell_type": "code",
      "source": [
        "basket = ('Apple', 'Banana', 'Lichi')\n",
        "'kiwi' in basket"
      ],
      "metadata": {
        "colab": {
          "base_uri": "https://localhost:8080/"
        },
        "id": "SzbhAtKdaL-K",
        "outputId": "034e7634-9b69-4f5a-b122-2ef94186feb6"
      },
      "execution_count": 15,
      "outputs": [
        {
          "output_type": "execute_result",
          "data": {
            "text/plain": [
              "False"
            ]
          },
          "metadata": {},
          "execution_count": 15
        }
      ]
    },
    {
      "cell_type": "code",
      "source": [
        "\n",
        "##Q16.  Write a code to create a set with the elements 'a', 'b', 'c' and print it."
      ],
      "metadata": {
        "id": "uASocrCEaTTr"
      },
      "execution_count": null,
      "outputs": []
    },
    {
      "cell_type": "code",
      "source": [
        "a ='a', 'b', 'c'\n",
        "set1 = set(a)\n",
        "print(set1)"
      ],
      "metadata": {
        "colab": {
          "base_uri": "https://localhost:8080/"
        },
        "id": "AZkBIZcXaau9",
        "outputId": "b737e1ed-ae01-41ab-d546-c5f20c230ab9"
      },
      "execution_count": 16,
      "outputs": [
        {
          "output_type": "stream",
          "name": "stdout",
          "text": [
            "{'a', 'b', 'c'}\n"
          ]
        }
      ]
    },
    {
      "cell_type": "code",
      "source": [
        "##Q17.  Write a code to clear all elements from the set {1, 2, 3, 4, 5}."
      ],
      "metadata": {
        "id": "WGSITYMYadxS"
      },
      "execution_count": null,
      "outputs": []
    },
    {
      "cell_type": "code",
      "source": [
        "set1 = {1, 2, 3, 4, 5}\n",
        "set1.clear()\n",
        "print(set1)"
      ],
      "metadata": {
        "colab": {
          "base_uri": "https://localhost:8080/"
        },
        "id": "3A1zO4R8amvK",
        "outputId": "5602020b-e80f-4cf5-aa98-bcbc8b1873e7"
      },
      "execution_count": 17,
      "outputs": [
        {
          "output_type": "stream",
          "name": "stdout",
          "text": [
            "set()\n"
          ]
        }
      ]
    },
    {
      "cell_type": "code",
      "source": [
        "##Q18.  Write a code to remove the element 4 from the set {1, 2, 3, 4}."
      ],
      "metadata": {
        "id": "RuIphMcRawaI"
      },
      "execution_count": null,
      "outputs": []
    },
    {
      "cell_type": "code",
      "source": [
        "set1 = {1, 2, 3, 4}\n",
        "set1.remove(4)\n",
        "print(set1)"
      ],
      "metadata": {
        "colab": {
          "base_uri": "https://localhost:8080/"
        },
        "id": "HnHlf9FUa3c5",
        "outputId": "b7e9684a-78c2-445c-b7fe-3626fd32e9e0"
      },
      "execution_count": 18,
      "outputs": [
        {
          "output_type": "stream",
          "name": "stdout",
          "text": [
            "{1, 2, 3}\n"
          ]
        }
      ]
    },
    {
      "cell_type": "code",
      "source": [
        "##Q19.  Write a code to find the union of two sets {1, 2, 3} and {3, 4, 5}"
      ],
      "metadata": {
        "id": "-WBgcoxwa8JA"
      },
      "execution_count": null,
      "outputs": []
    },
    {
      "cell_type": "code",
      "source": [
        "set1 = {1, 2, 3}\n",
        "set2 = {3, 4, 5}\n",
        "new_set = set1.union(set2)\n",
        "print(new_set)"
      ],
      "metadata": {
        "colab": {
          "base_uri": "https://localhost:8080/"
        },
        "id": "ayFrsAd2bCUU",
        "outputId": "ae440e29-67ab-4d21-a718-6c9d4575d32f"
      },
      "execution_count": 19,
      "outputs": [
        {
          "output_type": "stream",
          "name": "stdout",
          "text": [
            "{1, 2, 3, 4, 5}\n"
          ]
        }
      ]
    },
    {
      "cell_type": "code",
      "source": [
        "\n",
        "##Q20.  Write a code to find the intersection of two sets {1, 2, 3} and {2, 3, 4}."
      ],
      "metadata": {
        "id": "nJ0s2y7AbFac"
      },
      "execution_count": null,
      "outputs": []
    },
    {
      "cell_type": "code",
      "source": [
        "set1 = {1, 2, 3}\n",
        "set2 = {2, 3, 4}\n",
        "new_set = set1.intersection(set2)\n",
        "print(new_set)"
      ],
      "metadata": {
        "colab": {
          "base_uri": "https://localhost:8080/"
        },
        "id": "vkj27pUZbKPB",
        "outputId": "18e7e5a2-d029-4288-8f7c-1af28cda1438"
      },
      "execution_count": 20,
      "outputs": [
        {
          "output_type": "stream",
          "name": "stdout",
          "text": [
            "{2, 3}\n"
          ]
        }
      ]
    },
    {
      "cell_type": "code",
      "source": [
        "\n",
        "##Q21.  Write a code to create a dictionary with the keys \"name\", \"age\", and \"city\", and print it"
      ],
      "metadata": {
        "id": "EzfVS24obM2z"
      },
      "execution_count": null,
      "outputs": []
    },
    {
      "cell_type": "code",
      "source": [
        "dict1 = {\"name\" : \"pavleen\", \"age\" : 19, \"city\" : \"agra\"}\n",
        "print(dict1)\n",
        ""
      ],
      "metadata": {
        "colab": {
          "base_uri": "https://localhost:8080/"
        },
        "id": "suZZlgVGbTGR",
        "outputId": "ff8f5161-117a-4d81-f75f-f66d4f35e727"
      },
      "execution_count": 22,
      "outputs": [
        {
          "output_type": "stream",
          "name": "stdout",
          "text": [
            "{'name': 'pavleen', 'age': 19, 'city': 'agra'}\n"
          ]
        }
      ]
    },
    {
      "cell_type": "code",
      "source": [
        "\n",
        "##Q22. Write a code to add a new key-value pair \"country\": \"USA\" to the dictionary {'name': 'John', 'age': 25}"
      ],
      "metadata": {
        "id": "mggO1MUVbYHv"
      },
      "execution_count": null,
      "outputs": []
    },
    {
      "cell_type": "code",
      "source": [
        "dict1 = {'name': 'John', 'age': 25}\n",
        "dict1[\"country\"] = \"USA\"\n",
        "print(dict1)"
      ],
      "metadata": {
        "colab": {
          "base_uri": "https://localhost:8080/"
        },
        "id": "pYfl42X5btCR",
        "outputId": "d8750361-5648-4874-f557-f27c26aa17b9"
      },
      "execution_count": 23,
      "outputs": [
        {
          "output_type": "stream",
          "name": "stdout",
          "text": [
            "{'name': 'John', 'age': 25, 'country': 'USA'}\n"
          ]
        }
      ]
    },
    {
      "cell_type": "code",
      "source": [
        "##Q23. Write a code to access the value associated with the key \"name\" in the dictionary {'name': 'Alice', 'age': 30}.\n"
      ],
      "metadata": {
        "id": "o_sIbtnMbwjN"
      },
      "execution_count": null,
      "outputs": []
    },
    {
      "cell_type": "code",
      "source": [
        "dict1 = {'name': 'Alice', 'age': 30}\n",
        "dict1[\"name\"]\n",
        ""
      ],
      "metadata": {
        "colab": {
          "base_uri": "https://localhost:8080/",
          "height": 36
        },
        "id": "110yWgO9b7jb",
        "outputId": "9e6299eb-2818-47fe-e4e8-5b5703101ac7"
      },
      "execution_count": 24,
      "outputs": [
        {
          "output_type": "execute_result",
          "data": {
            "text/plain": [
              "'Alice'"
            ],
            "application/vnd.google.colaboratory.intrinsic+json": {
              "type": "string"
            }
          },
          "metadata": {},
          "execution_count": 24
        }
      ]
    },
    {
      "cell_type": "code",
      "source": [
        "##Q24. Write a code to remove the key \"age\" from the dictionary {'name': 'Bob', 'age': 22, 'city': 'New York'}.\n",
        "dict1 = {'name': 'Bob', 'age': 22, 'city': 'New York'}\n",
        "del dict1[\"age\"]\n",
        "dict1\n",
        ""
      ],
      "metadata": {
        "colab": {
          "base_uri": "https://localhost:8080/"
        },
        "id": "NQpM0195cDKE",
        "outputId": "564d0aae-f4f8-49b3-9460-5090179e92c7"
      },
      "execution_count": 25,
      "outputs": [
        {
          "output_type": "execute_result",
          "data": {
            "text/plain": [
              "{'name': 'Bob', 'city': 'New York'}"
            ]
          },
          "metadata": {},
          "execution_count": 25
        }
      ]
    },
    {
      "cell_type": "code",
      "source": [
        "##Q25.  Write a code to check if the key \"city\" exists in the dictionary {'name': 'Alice', 'city': 'Paris'}.\n",
        "dict1 = {'name': 'Alice', 'city': 'Paris'}\n",
        "\"city\" in dict1\n",
        ""
      ],
      "metadata": {
        "colab": {
          "base_uri": "https://localhost:8080/"
        },
        "id": "BuIy80z_cPev",
        "outputId": "523416f8-ae8d-4082-cfec-b06a3080e386"
      },
      "execution_count": 26,
      "outputs": [
        {
          "output_type": "execute_result",
          "data": {
            "text/plain": [
              "True"
            ]
          },
          "metadata": {},
          "execution_count": 26
        }
      ]
    },
    {
      "cell_type": "code",
      "source": [
        "\n",
        "##Q26. Write a code to create a list, a tuple, and a dictionary, and print them all.\n",
        "a = 1, 2, 3, 4, 5\n",
        "tuple1 = tuple(a)\n",
        "list1 = list(a)\n",
        "dict1 = {\"name\":\"babul\" ,\"age\": 21}\n",
        "print(tuple1)\n",
        "print(list1)\n",
        "print(dict1)"
      ],
      "metadata": {
        "colab": {
          "base_uri": "https://localhost:8080/"
        },
        "id": "xsyjuNvjcTp4",
        "outputId": "fd279440-d226-4c89-d29d-fd5ab8841efa"
      },
      "execution_count": 27,
      "outputs": [
        {
          "output_type": "stream",
          "name": "stdout",
          "text": [
            "(1, 2, 3, 4, 5)\n",
            "[1, 2, 3, 4, 5]\n",
            "{'name': 'babul', 'age': 21}\n"
          ]
        }
      ]
    },
    {
      "cell_type": "code",
      "source": [
        "\n",
        "##Q27. Write a code to create a list of 5 random numbers between 1 and 100, sort it in ascending order, and print the result.(replaced)\n",
        "import random\n",
        "list1 = list(random.randint(1,100) for _ in range(5))\n",
        "list1.sort()\n",
        "print(list1)"
      ],
      "metadata": {
        "colab": {
          "base_uri": "https://localhost:8080/"
        },
        "id": "JT9NDB5-cb5j",
        "outputId": "3273f988-38aa-4758-e62d-34cbeccc1aab"
      },
      "execution_count": 28,
      "outputs": [
        {
          "output_type": "stream",
          "name": "stdout",
          "text": [
            "[21, 33, 77, 78, 93]\n"
          ]
        }
      ]
    },
    {
      "cell_type": "code",
      "source": [
        "\n",
        "##Q28. Write a code to create a list with strings and print the element at the third index.\n",
        "a = \"apple\", \"babul\", \"game\", \"nitro\", \"pw\"\n",
        "list1 = list(a)\n",
        "print(list1)\n",
        "list1[2]"
      ],
      "metadata": {
        "colab": {
          "base_uri": "https://localhost:8080/",
          "height": 53
        },
        "id": "jEf-q6miclMi",
        "outputId": "43f9163f-fbbe-4d00-9018-ba3eb71a1a64"
      },
      "execution_count": 29,
      "outputs": [
        {
          "output_type": "stream",
          "name": "stdout",
          "text": [
            "['apple', 'babul', 'game', 'nitro', 'pw']\n"
          ]
        },
        {
          "output_type": "execute_result",
          "data": {
            "text/plain": [
              "'game'"
            ],
            "application/vnd.google.colaboratory.intrinsic+json": {
              "type": "string"
            }
          },
          "metadata": {},
          "execution_count": 29
        }
      ]
    },
    {
      "cell_type": "code",
      "source": [
        "\n",
        "##Q29. Write a code to combine two dictionaries into one and print the result.\n",
        "dict1 = {\"a\" : 1, \"b\" : 2}\n",
        "dict2 = {\"c\" : 3, \"d\" : 4}\n",
        "dict1.update(dict2)\n",
        "print(dict1)"
      ],
      "metadata": {
        "colab": {
          "base_uri": "https://localhost:8080/"
        },
        "id": "lu7Kz-_3csX5",
        "outputId": "9161c37b-47e2-43c3-f2ec-eea0b5b72c42"
      },
      "execution_count": 30,
      "outputs": [
        {
          "output_type": "stream",
          "name": "stdout",
          "text": [
            "{'a': 1, 'b': 2, 'c': 3, 'd': 4}\n"
          ]
        }
      ]
    },
    {
      "cell_type": "code",
      "source": [
        "##Q30. Write a code to convert a list of strings into a set.\n",
        "a = \"a\", \"b\", \"c\"\n",
        "list1 = list(a)\n",
        "set1 = set(list1)\n",
        "print (set1)"
      ],
      "metadata": {
        "colab": {
          "base_uri": "https://localhost:8080/"
        },
        "id": "y1O8gGDlc2fS",
        "outputId": "3095accd-3335-474b-8140-5ce57b544dfc"
      },
      "execution_count": 31,
      "outputs": [
        {
          "output_type": "stream",
          "name": "stdout",
          "text": [
            "{'a', 'b', 'c'}\n"
          ]
        }
      ]
    },
    {
      "cell_type": "code",
      "source": [],
      "metadata": {
        "id": "9GxaxUbpc7fS"
      },
      "execution_count": null,
      "outputs": []
    }
  ]
}